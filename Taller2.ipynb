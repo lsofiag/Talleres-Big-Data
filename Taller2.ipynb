{
  "nbformat": 4,
  "nbformat_minor": 0,
  "metadata": {
    "colab": {
      "provenance": []
    },
    "kernelspec": {
      "name": "python3",
      "display_name": "Python 3"
    },
    "language_info": {
      "name": "python"
    }
  },
  "cells": [
    {
      "cell_type": "markdown",
      "source": [
        "# Integrantes:\n",
        "\n",
        "\n",
        "*   Daniela Gonzalez\n",
        "*   Estiven Pira\n",
        "\n",
        "*   Sofía Gómez"
      ],
      "metadata": {
        "id": "SDO6BMQ1uRKv"
      }
    },
    {
      "cell_type": "markdown",
      "source": [
        "**Punto 1**"
      ],
      "metadata": {
        "id": "aqWm9vcOueTe"
      }
    },
    {
      "cell_type": "code",
      "source": [
        "a = \"Sofia\"\n",
        "b = 21"
      ],
      "metadata": {
        "id": "uFlNtPMMugen"
      },
      "execution_count": null,
      "outputs": []
    },
    {
      "cell_type": "code",
      "source": [
        "print(\"Hola soy\", (a), \"y tengo\", (b), \"años\")"
      ],
      "metadata": {
        "colab": {
          "base_uri": "https://localhost:8080/"
        },
        "id": "pNwvCuCmulo2",
        "outputId": "05e76f1c-1f9d-40dd-b0fb-6a6f9345802b"
      },
      "execution_count": null,
      "outputs": [
        {
          "output_type": "stream",
          "name": "stdout",
          "text": [
            "Hola soy Sofia y tengo 21 años\n"
          ]
        }
      ]
    },
    {
      "cell_type": "markdown",
      "source": [
        "**Punto 2**"
      ],
      "metadata": {
        "id": "f1aR51K4uuXu"
      }
    },
    {
      "cell_type": "code",
      "source": [
        "import math\n",
        "\n",
        "def calcular_area_circulo(radio):\n",
        "    area = math.pi * radio**2\n",
        "    return area"
      ],
      "metadata": {
        "id": "5C4IXFRVuvu2"
      },
      "execution_count": null,
      "outputs": []
    },
    {
      "cell_type": "code",
      "source": [
        "radio = float(input(\"Ingresa el radio del círculo: \"))"
      ],
      "metadata": {
        "colab": {
          "base_uri": "https://localhost:8080/"
        },
        "id": "_cT9RTllWKgF",
        "outputId": "e5df576a-1003-42fe-a9b9-63d165d8401e"
      },
      "execution_count": null,
      "outputs": [
        {
          "name": "stdout",
          "output_type": "stream",
          "text": [
            "Ingresa el radio del círculo: 8\n"
          ]
        }
      ]
    },
    {
      "cell_type": "code",
      "source": [
        "area_del_circulo = calcular_area_circulo(radio)\n",
        "print(f\"El área del círculo con radio {radio} es: {area_del_circulo}\")"
      ],
      "metadata": {
        "colab": {
          "base_uri": "https://localhost:8080/"
        },
        "id": "w0otlE22WUOB",
        "outputId": "32d449a6-622d-4ecf-8175-65306d95b8fa"
      },
      "execution_count": null,
      "outputs": [
        {
          "output_type": "stream",
          "name": "stdout",
          "text": [
            "El área del círculo con radio 8.0 es: 201.06192982974676\n"
          ]
        }
      ]
    },
    {
      "cell_type": "markdown",
      "source": [
        "**Punto 3**\n",
        "\n"
      ],
      "metadata": {
        "id": "TdNZLGE2uwDP"
      }
    },
    {
      "cell_type": "code",
      "source": [
        "def calcular_promedio(lista_numeros):\n",
        "    total = sum(lista_numeros)\n",
        "    promedio = total / len(lista_numeros)\n",
        "    return promedio"
      ],
      "metadata": {
        "id": "WZCf1tfQvonZ"
      },
      "execution_count": null,
      "outputs": []
    },
    {
      "cell_type": "code",
      "source": [
        "l3 = [5, 4, 8, 3, 5, 9, 3, 3, 8 ]"
      ],
      "metadata": {
        "id": "w6mT54k-uxMu"
      },
      "execution_count": null,
      "outputs": []
    },
    {
      "cell_type": "code",
      "source": [
        "promedio = calcular_promedio(l3)\n",
        "print(f\"El promedio de la lista {l3} es: {promedio}\")"
      ],
      "metadata": {
        "colab": {
          "base_uri": "https://localhost:8080/"
        },
        "id": "-BcUy8pIW5x5",
        "outputId": "66ddc522-6538-4eae-86fc-ae7a11b82b8f"
      },
      "execution_count": null,
      "outputs": [
        {
          "output_type": "stream",
          "name": "stdout",
          "text": [
            "El promedio de la lista [5, 4, 8, 3, 5, 9, 3, 3, 8] es: 5.333333333333333\n"
          ]
        }
      ]
    },
    {
      "cell_type": "markdown",
      "source": [
        "**Punto 4**"
      ],
      "metadata": {
        "id": "kFLdYd4-ml9F"
      }
    },
    {
      "cell_type": "code",
      "source": [
        "l4 = [3, 2, 12, 5, 44, 23, 7]"
      ],
      "metadata": {
        "id": "AnllhxrImndl"
      },
      "execution_count": null,
      "outputs": []
    },
    {
      "cell_type": "code",
      "source": [
        "for i in l4:\n",
        "  if i > 10:\n",
        "    print(i)"
      ],
      "metadata": {
        "colab": {
          "base_uri": "https://localhost:8080/"
        },
        "id": "YNrWOmDonESV",
        "outputId": "6167ec58-6d26-4a61-dbcf-f7fdc83dd419"
      },
      "execution_count": null,
      "outputs": [
        {
          "output_type": "stream",
          "name": "stdout",
          "text": [
            "12\n",
            "44\n",
            "23\n"
          ]
        }
      ]
    },
    {
      "cell_type": "code",
      "source": [],
      "metadata": {
        "id": "CsXn_1YgpJRk"
      },
      "execution_count": null,
      "outputs": []
    },
    {
      "cell_type": "markdown",
      "source": [
        "**Punto 5**"
      ],
      "metadata": {
        "id": "yYJZVS6Op0qs"
      }
    },
    {
      "cell_type": "code",
      "source": [
        "d = {'arroz': \"5250\",\n",
        "     'aceite': '3500',\n",
        "     'panela': '6250'}\n",
        "\n",
        "\"Ingrese el producto en ['']\""
      ],
      "metadata": {
        "id": "6qY8kUDkp2g0",
        "colab": {
          "base_uri": "https://localhost:8080/",
          "height": 36
        },
        "outputId": "ca919293-b577-4fce-d7fe-3628c8bf29f2"
      },
      "execution_count": null,
      "outputs": [
        {
          "output_type": "execute_result",
          "data": {
            "text/plain": [
              "\"Ingrese el producto en ['']\""
            ],
            "application/vnd.google.colaboratory.intrinsic+json": {
              "type": "string"
            }
          },
          "metadata": {},
          "execution_count": 12
        }
      ]
    },
    {
      "cell_type": "code",
      "source": [
        "d['panela']"
      ],
      "metadata": {
        "colab": {
          "base_uri": "https://localhost:8080/",
          "height": 36
        },
        "id": "eefozsDQILkq",
        "outputId": "31e518cf-8b60-4a2e-da8e-5248329a61ed"
      },
      "execution_count": null,
      "outputs": [
        {
          "output_type": "execute_result",
          "data": {
            "text/plain": [
              "'6250'"
            ],
            "application/vnd.google.colaboratory.intrinsic+json": {
              "type": "string"
            }
          },
          "metadata": {},
          "execution_count": 13
        }
      ]
    },
    {
      "cell_type": "markdown",
      "source": [
        "**Punto 6**"
      ],
      "metadata": {
        "id": "ITVuJKfDrY_-"
      }
    },
    {
      "cell_type": "code",
      "source": [
        "def es_primo(a):\n",
        "    if a <= 1:\n",
        "        return False\n",
        "\n",
        "    for i in range(2, a):\n",
        "        if a % i == 0:\n",
        "            return False\n",
        "\n",
        "    return True\n"
      ],
      "metadata": {
        "id": "3vrqRqaELCUk"
      },
      "execution_count": null,
      "outputs": []
    },
    {
      "cell_type": "code",
      "source": [
        "print(es_primo(5))  # True\n",
        "print(es_primo(10))  # False\n"
      ],
      "metadata": {
        "colab": {
          "base_uri": "https://localhost:8080/"
        },
        "id": "ffdaDkfeLQar",
        "outputId": "31d1ff75-4f94-47fe-dbeb-2bd1263efcb9"
      },
      "execution_count": null,
      "outputs": [
        {
          "output_type": "stream",
          "name": "stdout",
          "text": [
            "True\n",
            "False\n"
          ]
        }
      ]
    },
    {
      "cell_type": "markdown",
      "source": [
        "**Punto 7**"
      ],
      "metadata": {
        "id": "KcjQO-FLtYaX"
      }
    },
    {
      "cell_type": "code",
      "source": [
        "l7 = [\"Lau\", \"Sofi\", \"Alex\", \"Pepa\"]\n",
        "a = 0\n",
        "while a < len (l7):\n",
        "  print (l7[a])\n",
        "  if l7 [a]== \"Alex\":\n",
        "    print(\"la encontramos\")\n",
        "    break\n",
        "  a += 1"
      ],
      "metadata": {
        "colab": {
          "base_uri": "https://localhost:8080/"
        },
        "id": "B-g_kxpVz-Hq",
        "outputId": "0d4f2135-36ed-424b-db93-fda25dc2fa18"
      },
      "execution_count": null,
      "outputs": [
        {
          "output_type": "stream",
          "name": "stdout",
          "text": [
            "Lau\n",
            "Sofi\n",
            "Alex\n",
            "la encontramos\n"
          ]
        }
      ]
    },
    {
      "cell_type": "markdown",
      "source": [
        "**Punto 8**"
      ],
      "metadata": {
        "id": "zuTiu0lywwIL"
      }
    },
    {
      "cell_type": "code",
      "source": [
        "def invertir_cadena(c8):\n",
        "    cadena_invertida = c8[::-1]\n",
        "    return cadena_invertida"
      ],
      "metadata": {
        "id": "Zx4dm6aRtChw"
      },
      "execution_count": null,
      "outputs": []
    },
    {
      "cell_type": "code",
      "source": [
        "c8 = \"satinobsaracedsatahcsalnatnacneemsatidaicrovidysaduivysaretlos,satitiuqihcsalysadrogysacalfsal,satirrapahcsalysatlasalnatsugeM\""
      ],
      "metadata": {
        "id": "4rCV5UXZwxdz"
      },
      "execution_count": null,
      "outputs": []
    },
    {
      "cell_type": "code",
      "source": [
        "cadena_invertida = invertir_cadena(c8)\n",
        "print(f\"Cadena original: {c8}\")\n",
        "print(f\"Cadena invertida: {cadena_invertida}\")"
      ],
      "metadata": {
        "colab": {
          "base_uri": "https://localhost:8080/"
        },
        "id": "HmaFXtKbshva",
        "outputId": "77cc0fad-8e0c-4326-ecf3-092aa57f258c"
      },
      "execution_count": null,
      "outputs": [
        {
          "output_type": "stream",
          "name": "stdout",
          "text": [
            "Cadena original: satinobsaracedsatahcsalnatnacneemsatidaicrovidysaduivysaretlos,satitiuqihcsalysadrogysacalfsal,satirrapahcsalysatlasalnatsugeM\n",
            "Cadena invertida: Megustanlasaltasylaschaparritas,lasflacasygordasylaschiquititas,solterasyviudasydivorciaditasmeencantanlaschatasdecarasbonitas\n"
          ]
        }
      ]
    },
    {
      "cell_type": "markdown",
      "source": [
        "**Punto 9**"
      ],
      "metadata": {
        "id": "WJMf8IFDycYh"
      }
    },
    {
      "cell_type": "code",
      "source": [
        "lpares = [2, 4, 6, 8, 10, 12, 14, 16, 18, 20]"
      ],
      "metadata": {
        "id": "pPVri0ieydqB"
      },
      "execution_count": null,
      "outputs": []
    },
    {
      "cell_type": "code",
      "source": [
        "lpares"
      ],
      "metadata": {
        "colab": {
          "base_uri": "https://localhost:8080/"
        },
        "id": "-1fnURTa0GZR",
        "outputId": "db2614c6-f509-43cb-9447-94ed251e80fb"
      },
      "execution_count": null,
      "outputs": [
        {
          "output_type": "execute_result",
          "data": {
            "text/plain": [
              "[2, 4, 6, 8, 10, 12, 14, 16, 18, 20]"
            ]
          },
          "metadata": {},
          "execution_count": 65
        }
      ]
    },
    {
      "cell_type": "markdown",
      "source": [
        "**Punto 10**"
      ],
      "metadata": {
        "id": "gblDOof_Xmpf"
      }
    },
    {
      "cell_type": "code",
      "source": [
        "def fibonacci(n):\n",
        "  fib_num = []\n",
        "  a, b = 0, 1\n",
        "  for _ in range(n):\n",
        "    fib_num.append(a)\n",
        "    a, b = b, a + b\n",
        "  return fib_num\n",
        "\n",
        "try:\n",
        "    num_user = int(input(\"Número de términos Fibonacci a generar: \"))\n",
        "    if num_user <= 0:\n",
        "        print(\"Ingresar un número válido mayor a cero.\")\n",
        "    else:\n",
        "        respuesta = fibonacci(num_user)\n",
        "        print(f\"Los primeros {num_user} términos de la serie de Fibonacci son:\")\n",
        "        print(respuesta)\n",
        "except ValueError:\n",
        "    print(\"Ingrese un número válido.\")\n"
      ],
      "metadata": {
        "id": "manz6E4XXoZb",
        "colab": {
          "base_uri": "https://localhost:8080/"
        },
        "outputId": "21a283cb-09f9-497c-e4c8-c5b58aec37e9"
      },
      "execution_count": null,
      "outputs": [
        {
          "output_type": "stream",
          "name": "stdout",
          "text": [
            "Número de términos Fibonacci a generar: 15\n",
            "Los primeros 15 términos de la serie de Fibonacci son:\n",
            "[0, 1, 1, 2, 3, 5, 8, 13, 21, 34, 55, 89, 144, 233, 377]\n"
          ]
        }
      ]
    },
    {
      "cell_type": "markdown",
      "source": [
        "**Punto 11**"
      ],
      "metadata": {
        "id": "xZYtpXH4Xowo"
      }
    },
    {
      "cell_type": "code",
      "source": [
        "def calcular_interes_simple(principal, tasa_interes, tiempo_años):\n",
        "    interes = principal * tasa_interes * tiempo_años\n",
        "    return interes"
      ],
      "metadata": {
        "id": "Ek60QEMNXp_e"
      },
      "execution_count": 50,
      "outputs": []
    },
    {
      "cell_type": "code",
      "source": [
        "principal = float(input(\"Valor principal: \"))\n",
        "tasa_interes = float(input(\"Tasa de interés (como decimal): \"))\n",
        "tiempo_años = float(input(\"Tiempo: \"))"
      ],
      "metadata": {
        "id": "X7rYQWd5F9BF",
        "colab": {
          "base_uri": "https://localhost:8080/"
        },
        "outputId": "3f772bb6-ac55-4109-c8be-ff42af64c82a"
      },
      "execution_count": 53,
      "outputs": [
        {
          "name": "stdout",
          "output_type": "stream",
          "text": [
            "Valor principal: 500\n",
            "Tasa de interés (como decimal): 5.0\n",
            "Tiempo: 5\n"
          ]
        }
      ]
    },
    {
      "cell_type": "code",
      "source": [
        "interes_calculado = calcular_interes_simple(principal, tasa_interes, tiempo_años)\n",
        "print(f\"El interés simple es: {interes_calculado:.2f}\")"
      ],
      "metadata": {
        "id": "qNGpf082F_ND",
        "colab": {
          "base_uri": "https://localhost:8080/"
        },
        "outputId": "633b70fd-5e92-4db4-c81c-7841ab003955"
      },
      "execution_count": 54,
      "outputs": [
        {
          "output_type": "stream",
          "name": "stdout",
          "text": [
            "El interés simple es: 12500.00\n"
          ]
        }
      ]
    },
    {
      "cell_type": "markdown",
      "source": [
        "**Punto 12**"
      ],
      "metadata": {
        "id": "5ZKsRhwmXqTP"
      }
    },
    {
      "cell_type": "code",
      "source": [
        "def calcular_promedio_precios(precios):\n",
        "    total = sum(precios)\n",
        "    promedio = total / len(precios)\n",
        "    return promedio"
      ],
      "metadata": {
        "id": "o56Oqdc6Xrdg"
      },
      "execution_count": 60,
      "outputs": []
    },
    {
      "cell_type": "code",
      "source": [
        "l12 = [1234, 1324, 1432, 1423, 1621,]"
      ],
      "metadata": {
        "id": "acQANt96DM2N"
      },
      "execution_count": 61,
      "outputs": []
    },
    {
      "cell_type": "code",
      "source": [
        "promedio_precios = calcular_promedio_precios(l12)\n",
        "print(f\"La lista de precios de acciones es: {l12}\")\n",
        "print(f\"El promedio de precios de acciones es: {promedio_precios:.2f}\")"
      ],
      "metadata": {
        "id": "3r61g4kYDNQu",
        "colab": {
          "base_uri": "https://localhost:8080/"
        },
        "outputId": "a4045b6a-0cc7-4553-e403-01c6f196c24d"
      },
      "execution_count": 62,
      "outputs": [
        {
          "output_type": "stream",
          "name": "stdout",
          "text": [
            "La lista de precios de acciones es: [1234, 1324, 1432, 1423, 1621]\n",
            "El promedio de precios de acciones es: 1406.80\n"
          ]
        }
      ]
    },
    {
      "cell_type": "markdown",
      "source": [
        "**Punto 13**"
      ],
      "metadata": {
        "id": "GPSiM0wJXrwC"
      }
    },
    {
      "cell_type": "code",
      "source": [
        "def de_dolares_a_euros(dolar, tasa):\n",
        "    euros = dolar * tasa\n",
        "    return euros\n",
        "\n",
        "tasa = 0.92\n",
        "\n",
        "try:\n",
        "    cantidad_dolares = float(input(\"# de dolares a euros\"))\n",
        "    cantidad_euros = de_dolares_a_euros(cantidad_dolares, tasa)\n",
        "    print(f\"{cantidad_dolares} dólares son {cantidad_euros:.2f} euros.\")\n",
        "except ValueError:\n",
        "    print(\"Por favor, ingresa una cantidad válida en dólares.\")\n"
      ],
      "metadata": {
        "id": "vmYARMoRXtId",
        "colab": {
          "base_uri": "https://localhost:8080/"
        },
        "outputId": "b560708c-b8f8-4ac2-859c-0791eb0379d1"
      },
      "execution_count": null,
      "outputs": [
        {
          "output_type": "stream",
          "name": "stdout",
          "text": [
            "# de dolares a euros5\n",
            "5.0 dólares son 4.60 euros.\n"
          ]
        }
      ]
    },
    {
      "cell_type": "markdown",
      "source": [
        "**Punto 14**"
      ],
      "metadata": {
        "id": "nd3rHQ16a5cX"
      }
    },
    {
      "cell_type": "code",
      "source": [
        "def factorial(n):\n",
        "    if n == 0 or n == 1:\n",
        "        return 1\n",
        "    else:\n",
        "        factorial = 1\n",
        "        for i in range(2, n + 1):\n",
        "            factorial *= i\n",
        "        return factorial\n",
        "\n",
        "try:\n",
        "   Dato = int(input(\"Ingresa un número para calcular su factorial: \"))\n",
        "   if Dato < 0:\n",
        "    print(\"No números negativos.\")\n",
        "   else:\n",
        "        resultado_factorial = factorial(Dato)\n",
        "        print(f\"El factorial de {Dato} es {resultado_factorial}\")\n",
        "except ValueError:\n",
        "    print(\"Por favor, ingresa un número entero válido.\")"
      ],
      "metadata": {
        "id": "FFP6GTU9a8P6",
        "colab": {
          "base_uri": "https://localhost:8080/"
        },
        "outputId": "afb4d0de-7ca2-4c42-a118-d1af5a26c5ac"
      },
      "execution_count": null,
      "outputs": [
        {
          "output_type": "stream",
          "name": "stdout",
          "text": [
            "Ingresa un número para calcular su factorial: 8\n",
            "El factorial de 8 es 40320\n"
          ]
        }
      ]
    },
    {
      "cell_type": "markdown",
      "source": [
        "**Punto 15**"
      ],
      "metadata": {
        "id": "_X3KeKDDa8yI"
      }
    },
    {
      "cell_type": "code",
      "source": [
        "def saldo_mas_alto(cuentas):\n",
        "    saldo_mas_alto = max(cuentas.values())\n",
        "\n",
        "    for cuenta, saldo in cuentas.items():\n",
        "        if saldo == saldo_mas_alto:\n",
        "            return cuenta, saldo"
      ],
      "metadata": {
        "id": "5oqT9MFPbArP"
      },
      "execution_count": 55,
      "outputs": []
    },
    {
      "cell_type": "code",
      "source": [
        "cuentas_bancarias = {\"Laura\": 2500,\n",
        "                     \"Sofi\": 7500,\n",
        "                     \"Estiven\": 10000}"
      ],
      "metadata": {
        "id": "OhELgzB4DWn0"
      },
      "execution_count": 56,
      "outputs": []
    },
    {
      "cell_type": "code",
      "source": [
        "nombre_cuenta_mas_alto, saldo_mas_alto = saldo_mas_alto(cuentas_bancarias)"
      ],
      "metadata": {
        "id": "AhILaNObDiW8"
      },
      "execution_count": 57,
      "outputs": []
    },
    {
      "cell_type": "code",
      "source": [
        "print(\"Cuentas bancarias:\")\n",
        "for cuenta, saldo in cuentas_bancarias.items():\n",
        "    print(f\"{cuenta}: ${saldo:.2f}\")"
      ],
      "metadata": {
        "id": "pq_flPIpDjue",
        "colab": {
          "base_uri": "https://localhost:8080/"
        },
        "outputId": "22aacc12-5619-4354-e174-b9ebf8527d77"
      },
      "execution_count": 58,
      "outputs": [
        {
          "output_type": "stream",
          "name": "stdout",
          "text": [
            "Cuentas bancarias:\n",
            "Laura: $2500.00\n",
            "Sofi: $7500.00\n",
            "Estiven: $10000.00\n"
          ]
        }
      ]
    },
    {
      "cell_type": "code",
      "source": [
        "print(f\"\\nLa cuenta con el saldo más alto es {nombre_cuenta_mas_alto} con un saldo de ${saldo_mas_alto:.2f}\")"
      ],
      "metadata": {
        "id": "RJHdnBXrDroW",
        "colab": {
          "base_uri": "https://localhost:8080/"
        },
        "outputId": "d066c678-e8c2-4219-9e63-7d922ba338ee"
      },
      "execution_count": 59,
      "outputs": [
        {
          "output_type": "stream",
          "name": "stdout",
          "text": [
            "\n",
            "La cuenta con el saldo más alto es Estiven con un saldo de $10000.00\n"
          ]
        }
      ]
    },
    {
      "cell_type": "markdown",
      "source": [
        "**Punto 16**"
      ],
      "metadata": {
        "id": "ymQytVx7bBP4"
      }
    },
    {
      "cell_type": "code",
      "source": [
        "def numeros_triangulares(n):\n",
        "    triangulares = []\n",
        "    suma = 0\n",
        "    for i in range(1, n + 1):\n",
        "        suma += i\n",
        "        triangulares.append(suma)\n",
        "    return triangulares\n",
        "\n",
        "try:\n",
        "    n = int(input(\"cantidad de números triangulares a calcular: \"))\n",
        "    if n <= 0:\n",
        "        print(\"Solo numeros mayores a cero.\")\n",
        "    else:\n",
        "        jtriangulares = numeros_triangulares(n)\n",
        "        print(f\"Los primeros {n} números triangulares son:\")\n",
        "        print(jtriangulares)\n",
        "except ValueError:\n",
        "    print(\"Ingresar un número entero válido.\")"
      ],
      "metadata": {
        "id": "VhKQDYftbEMs",
        "colab": {
          "base_uri": "https://localhost:8080/"
        },
        "outputId": "662ac119-8f08-4cfa-b5e1-5628f4e06b14"
      },
      "execution_count": null,
      "outputs": [
        {
          "output_type": "stream",
          "name": "stdout",
          "text": [
            "cantidad de números triangulares a calcular: 3\n",
            "Los primeros 3 números triangulares son:\n",
            "[1, 3, 6]\n"
          ]
        }
      ]
    },
    {
      "cell_type": "markdown",
      "source": [
        "**Punto 17**"
      ],
      "metadata": {
        "id": "byhC2uDTbEkQ"
      }
    },
    {
      "cell_type": "code",
      "source": [
        "def calcular_descuento(precio_inicial, porcentaje_descuento):\n",
        "    descuento = precio_inicial * (porcentaje_descuento / 100)\n",
        "    precio_final = precio_inicial - descuento\n",
        "    return precio_final"
      ],
      "metadata": {
        "id": "DzHQPHKhbGyk"
      },
      "execution_count": null,
      "outputs": []
    },
    {
      "cell_type": "code",
      "source": [
        "precio_original = 300\n",
        "descuento_percent = 35\n",
        "precio_con_descuento = calcular_descuento(precio_original, descuento_percent)"
      ],
      "metadata": {
        "id": "WTHIjL0v0o-o"
      },
      "execution_count": null,
      "outputs": []
    },
    {
      "cell_type": "code",
      "source": [
        "print(f\"Precio original: ${precio_original}\")\n",
        "print(f\"Descuento: {descuento_percent}%\")\n",
        "print(f\"Precio con descuento: ${precio_con_descuento}\")"
      ],
      "metadata": {
        "colab": {
          "base_uri": "https://localhost:8080/"
        },
        "id": "bji2ISV003fC",
        "outputId": "4ba98cb7-e8b4-4356-d85d-ecc5f3546d5a"
      },
      "execution_count": null,
      "outputs": [
        {
          "output_type": "stream",
          "name": "stdout",
          "text": [
            "Precio original: $300\n",
            "Descuento: 35%\n",
            "Precio con descuento: $195.0\n"
          ]
        }
      ]
    },
    {
      "cell_type": "markdown",
      "source": [
        "**Punto 18**"
      ],
      "metadata": {
        "id": "506_vkbqbHKL"
      }
    },
    {
      "cell_type": "code",
      "source": [
        "def obtener_numeros_pares(lista_numeros):\n",
        "    numeros_pares = [numero for numero in lista_numeros if numero % 2 == 0]\n",
        "    return numeros_pares"
      ],
      "metadata": {
        "id": "kx9TfrGXbLGA"
      },
      "execution_count": 63,
      "outputs": []
    },
    {
      "cell_type": "code",
      "source": [
        "l_18 = [1, 2, 3, 4, 5, 6, 7, 8, 9, 10]\n",
        "numeros_pares = obtener_numeros_pares(l_18)"
      ],
      "metadata": {
        "id": "lUu8Apn9D8CT"
      },
      "execution_count": 64,
      "outputs": []
    },
    {
      "cell_type": "code",
      "source": [
        "print(\"Lista:\", l_18)\n",
        "print(\"Números pares:\", numeros_pares)"
      ],
      "metadata": {
        "id": "AIw3skFQD-Ho",
        "colab": {
          "base_uri": "https://localhost:8080/"
        },
        "outputId": "c8bc4ec2-148d-448f-bab6-cf47266678f7"
      },
      "execution_count": 65,
      "outputs": [
        {
          "output_type": "stream",
          "name": "stdout",
          "text": [
            "Lista: [1, 2, 3, 4, 5, 6, 7, 8, 9, 10]\n",
            "Números pares: [2, 4, 6, 8, 10]\n"
          ]
        }
      ]
    },
    {
      "cell_type": "markdown",
      "source": [
        "**Punto 19**"
      ],
      "metadata": {
        "id": "bsTRTtZcbLdO"
      }
    },
    {
      "cell_type": "code",
      "source": [
        "def encontrar_numero_mas_grande(lista_numeros):\n",
        "    mas_grande = max(lista_numeros)\n",
        "    return mas_grande\n",
        "\n",
        "def encontrar_numero_mas_pequeno(lista_numeros):\n",
        "    mas_pequeno = min(lista_numeros)\n",
        "    return mas_pequeno"
      ],
      "metadata": {
        "id": "KNy21RFtbOgM"
      },
      "execution_count": 66,
      "outputs": []
    },
    {
      "cell_type": "code",
      "source": [
        "l19 = [67, 21, 8, 86, 72, 106, 13, 5]"
      ],
      "metadata": {
        "id": "xw94xsDWFLCa"
      },
      "execution_count": 70,
      "outputs": []
    },
    {
      "cell_type": "code",
      "source": [
        "numero_mas_grande = encontrar_numero_mas_grande(l19)\n",
        "numero_mas_pequeno = encontrar_numero_mas_pequeno(l19)"
      ],
      "metadata": {
        "id": "v91M6GQcFO6-"
      },
      "execution_count": 71,
      "outputs": []
    },
    {
      "cell_type": "code",
      "source": [
        "print(\"Lista de números:\", l19)\n",
        "print(f\"Número más grande: {numero_mas_grande}\")\n",
        "print(f\"Número más pequeño: {numero_mas_pequeno}\")"
      ],
      "metadata": {
        "colab": {
          "base_uri": "https://localhost:8080/"
        },
        "id": "S29UE54GFWxi",
        "outputId": "c801ce11-2607-4988-c539-032d3aa107f6"
      },
      "execution_count": 72,
      "outputs": [
        {
          "output_type": "stream",
          "name": "stdout",
          "text": [
            "Lista de números: [67, 21, 8, 86, 72, 106, 13, 5]\n",
            "Número más grande: 106\n",
            "Número más pequeño: 5\n"
          ]
        }
      ]
    },
    {
      "cell_type": "markdown",
      "source": [
        "**Punto 20**"
      ],
      "metadata": {
        "id": "d2io61qSbQzW"
      }
    },
    {
      "cell_type": "code",
      "source": [
        "def pell(n):\n",
        "    pell_serie = [0, 1]\n",
        "    for i in range(2, n):"
      ],
      "metadata": {
        "id": "nbozTXnTbUwa"
      },
      "execution_count": null,
      "outputs": []
    },
    {
      "cell_type": "markdown",
      "source": [
        "**Punto 21**"
      ],
      "metadata": {
        "id": "Hn3c1TUcbVDN"
      }
    },
    {
      "cell_type": "code",
      "source": [
        "def calcular_amortizacion(n):"
      ],
      "metadata": {
        "id": "3AvBA72GbYO0"
      },
      "execution_count": null,
      "outputs": []
    },
    {
      "cell_type": "markdown",
      "source": [
        "**Punto 22**"
      ],
      "metadata": {
        "id": "XYNP0VKCbYgw"
      }
    },
    {
      "cell_type": "code",
      "source": [
        "def perfecto(number):\n",
        "    suma_de_divisores = 0\n",
        "    for i in range(1, number):\n",
        "        if number % i == 0:\n",
        "            suma_de_divisores += i\n",
        "    return suma_de_divisores == number\n",
        "\n",
        "try:\n",
        "    num = int(input(\"Verificar si es un número perfecto: \"))\n",
        "\n",
        "    if num <= 0:\n",
        "        print(\"Número natural mayor a cero.\")\n",
        "    elif perfecto(num):\n",
        "        print(f\"{num} es un número perfecto.\")\n",
        "    else:\n",
        "        print(f\"{num} no es un número perfecto.\")\n",
        "except ValueError:\n",
        "    print(\"Por favor, ingresa un número válido.\")"
      ],
      "metadata": {
        "id": "jZTdjocwbbi8",
        "colab": {
          "base_uri": "https://localhost:8080/"
        },
        "outputId": "837f9dfb-e446-4892-d7ad-fbeadf19cbcb"
      },
      "execution_count": null,
      "outputs": [
        {
          "output_type": "stream",
          "name": "stdout",
          "text": [
            "Verificar si es un número perfecto: 28\n",
            "28 es un número perfecto.\n"
          ]
        }
      ]
    },
    {
      "cell_type": "markdown",
      "source": [
        "**Punto 23**"
      ],
      "metadata": {
        "id": "SkQdE0yTbb6r"
      }
    },
    {
      "cell_type": "code",
      "source": [
        "def main():\n",
        "    tasas_interes = {\"personal\": 12.0,\n",
        "                     \"educativo\":5.0,\n",
        "                     \"hipotecario\": 7.5,\n",
        "                     \"automotriz\": 6.2,}\n",
        "    tipo_prestamo = input(\"Ingresa el tipo de préstamo: \").lower()\n",
        "    if tipo_prestamo in tasas_interes:\n",
        "        tasa = tasas_interes[tipo_prestamo]\n",
        "        print(f\"La tasa de interés para el préstamo '{tipo_prestamo}' es: {tasa}%\")\n",
        "    else:\n",
        "        print(\"Tipo de préstamo no encontrado.\")\n",
        "\n",
        "if __name__ == \"__main__\":\n",
        "    main()"
      ],
      "metadata": {
        "id": "K1ktRVrgbe3G",
        "colab": {
          "base_uri": "https://localhost:8080/"
        },
        "outputId": "aaad6377-67a8-497e-8d9d-ad7ee8aab88f"
      },
      "execution_count": null,
      "outputs": [
        {
          "output_type": "stream",
          "name": "stdout",
          "text": [
            "Ingresa el tipo de préstamo: educativo\n",
            "La tasa de interés para el préstamo 'educativo' es: 5.0%\n"
          ]
        }
      ]
    },
    {
      "cell_type": "markdown",
      "source": [
        "**Punto 24**"
      ],
      "metadata": {
        "id": "Wi_zBVy1bf6g"
      }
    },
    {
      "cell_type": "code",
      "source": [
        "import math"
      ],
      "metadata": {
        "id": "GzBZV3jqbje6"
      },
      "execution_count": null,
      "outputs": []
    },
    {
      "cell_type": "code",
      "source": [
        "def calcular_media_geometrica(l24):\n",
        "    producto = 1\n",
        "    for numero in l24:\n",
        "        producto *= numero\n",
        "    media_geometrica = math.pow(producto, 1 / len(l24))\n",
        "    return media_geometrica"
      ],
      "metadata": {
        "id": "Adnlut7m6sfO"
      },
      "execution_count": null,
      "outputs": []
    },
    {
      "cell_type": "code",
      "source": [
        "l24 = [18, 24, 8, 42, 17, 8]"
      ],
      "metadata": {
        "id": "GTjwVq_16yrr"
      },
      "execution_count": null,
      "outputs": []
    },
    {
      "cell_type": "code",
      "source": [
        "media_geom = calcular_media_geometrica(l24)\n",
        "print(f\"La media geométrica de la lista {l24} es: {media_geom}\")"
      ],
      "metadata": {
        "colab": {
          "base_uri": "https://localhost:8080/"
        },
        "id": "nbFRKb2A6y-9",
        "outputId": "90cad728-9d81-4e6f-ed47-327473ca5ca4"
      },
      "execution_count": null,
      "outputs": [
        {
          "output_type": "stream",
          "name": "stdout",
          "text": [
            "La media geométrica de la lista [18, 24, 8, 42, 17, 8] es: 16.439691194420252\n"
          ]
        }
      ]
    },
    {
      "cell_type": "markdown",
      "source": [
        "**Punto 25**"
      ],
      "metadata": {
        "id": "YP-jJkkbbj2S"
      }
    },
    {
      "cell_type": "code",
      "source": [
        "def encontrar_segundo_mas_grande(l25):\n",
        "    if len(l25) < 2:\n",
        "        return None\n",
        "\n",
        "    primer_maximo = max(l25)\n",
        "    lista_sin_maximo = [num for num in l25 if num != primer_maximo]\n",
        "    segundo_maximo = max(lista_sin_maximo)\n",
        "    return segundo_maximo"
      ],
      "metadata": {
        "id": "CEDeGx9lbqSc"
      },
      "execution_count": null,
      "outputs": []
    },
    {
      "cell_type": "code",
      "source": [
        "l25 = [40, 87, 29, 67, 108, 6, 51]"
      ],
      "metadata": {
        "id": "Ca0eP6ng8U_n"
      },
      "execution_count": null,
      "outputs": []
    },
    {
      "cell_type": "code",
      "source": [
        "segundo_mas_grande = encontrar_segundo_mas_grande(l25)\n",
        "\n",
        "if segundo_mas_grande is not None:\n",
        "    print(f\"El segundo número más grande en la lista {l25} es: {segundo_mas_grande}\")\n",
        "else:\n",
        "    print(\"No se puede encontrar el segundo número más grande.\")"
      ],
      "metadata": {
        "colab": {
          "base_uri": "https://localhost:8080/"
        },
        "id": "hfsvyyeB8ask",
        "outputId": "723f98ab-19c6-4db9-8d34-4e086323356a"
      },
      "execution_count": null,
      "outputs": [
        {
          "output_type": "stream",
          "name": "stdout",
          "text": [
            "El segundo número más grande en la lista [40, 87, 29, 67, 108, 6, 51] es: 87\n"
          ]
        }
      ]
    },
    {
      "cell_type": "markdown",
      "source": [
        "**Punto 26**"
      ],
      "metadata": {
        "id": "3AK8WiIGbqr8"
      }
    },
    {
      "cell_type": "code",
      "source": [
        "def lucas(n):\n",
        "    lucasl = [2, 1]\n",
        "    for i in range(2, n):\n",
        "        lucasl.append(lucasl[i - 1] + lucasl[i - 2])\n",
        "    return lucasl\n",
        "\n",
        "try:\n",
        "    num = int(input(\"Números Lucas que desea generar: \"))\n",
        "    if num <= 0:\n",
        "        print(\"Número mayor a cero.\")\n",
        "    else:\n",
        "        resultado = lucas(num)\n",
        "        print(f\"Los primeros {num} números de la serie de los números Lucas son:\")\n",
        "        print(resultado)\n",
        "except ValueError:\n",
        "    print(\"Ingrese un número válido.\")"
      ],
      "metadata": {
        "id": "MHJ6zRM2buLu",
        "colab": {
          "base_uri": "https://localhost:8080/"
        },
        "outputId": "c21bfee9-e57b-4189-bf76-c0f8a2784418"
      },
      "execution_count": null,
      "outputs": [
        {
          "output_type": "stream",
          "name": "stdout",
          "text": [
            "Números Lucas que desea generar: 5\n",
            "Los primeros 5 números de la serie de los números Lucas son:\n",
            "[2, 1, 3, 4, 7]\n"
          ]
        }
      ]
    },
    {
      "cell_type": "markdown",
      "source": [
        "**Punto 27**"
      ],
      "metadata": {
        "id": "W9MERwPEbuft"
      }
    },
    {
      "cell_type": "code",
      "source": [
        "def cuota_mensual(monto, tasa_anual, cuotas):\n",
        "    tasa_mensual = tasa_anual / 12 / 100\n",
        "    cuota = (monto * tasa_mensual) / (1 - (1 + tasa_mensual) ** -cuotas)\n",
        "    return cuota\n",
        "\n",
        "try:\n",
        "    monto = float(input(\"Valor préstamo: \"))\n",
        "    tasa = float(input(\"Tasa interés anual: \"))\n",
        "    cuotas = int(input(\"Ingresa el número de cuotas: \"))\n",
        "\n",
        "    cuota= cuota_mensual(monto, tasa, cuotas)\n",
        "\n",
        "    print(f\"Mensualidad del préstamo es: {cuota:.2f}\")\n",
        "except ValueError:\n",
        "    print(\"Ingresar valores numéricos válidos.\")\n"
      ],
      "metadata": {
        "id": "PuZKOmUqbxm6",
        "colab": {
          "base_uri": "https://localhost:8080/"
        },
        "outputId": "939ba7c9-b9a6-4fb2-f2b6-098cc3092443"
      },
      "execution_count": null,
      "outputs": [
        {
          "output_type": "stream",
          "name": "stdout",
          "text": [
            "Valor préstamo: 5000000\n",
            "Tasa interés anual: 2\n",
            "Ingresa el número de cuotas: 34\n",
            "Mensualidad del préstamo es: 151387.32\n"
          ]
        }
      ]
    },
    {
      "cell_type": "markdown",
      "source": [
        "**Punto 28**"
      ],
      "metadata": {
        "id": "t7SmBCyPbx7-"
      }
    },
    {
      "cell_type": "code",
      "source": [
        "def es_numero_armstrong(n28):\n",
        "    n = len(str(n28))\n",
        "    suma_digitos = sum(int(digito) ** n for digito in str(n28))\n",
        "    return n28 == suma_digitos"
      ],
      "metadata": {
        "id": "REwd0h-4b1W8"
      },
      "execution_count": null,
      "outputs": []
    },
    {
      "cell_type": "code",
      "source": [
        "n28 = int(input(\"Ingresa un número: \"))\n",
        "if es_numero_armstrong(n28):\n",
        "    print(f\"{n28} es un número de Armstrong.\")\n",
        "else:\n",
        "    print(f\"{n28} no es un número de Armstrong.\")"
      ],
      "metadata": {
        "colab": {
          "base_uri": "https://localhost:8080/"
        },
        "id": "NkkbtHpP9QCS",
        "outputId": "a3f2198f-37d2-427e-a869-82749ad32088"
      },
      "execution_count": null,
      "outputs": [
        {
          "output_type": "stream",
          "name": "stdout",
          "text": [
            "Ingresa un número: 153\n",
            "153 es un número de Armstrong.\n"
          ]
        }
      ]
    },
    {
      "cell_type": "markdown",
      "source": [
        "**Punto 29**"
      ],
      "metadata": {
        "id": "e9WppVyrb1q-"
      }
    },
    {
      "cell_type": "code",
      "source": [
        "Moneda = {\"USD\": \"Dólar estadounidense\",\n",
        "          \"EUR\": \"Euro\",\n",
        "          \"CNY\": \"Renminbi\"}\n",
        "\n",
        "\n",
        "Tasas_conversion = {\"USD\": 0.8,\n",
        "                    \"EUR\": 1.8,\n",
        "                    \"CNY\": 0.3}\n",
        "\n",
        "def conversion_moneda(amount, desde, hacia):\n",
        "    if desde not in Tasas_conversion or hacia not in Tasas_conversion:\n",
        "        return \"Moneda no soportada\"\n",
        "\n",
        "    Monto_convertido = amount * Tasas_conversion[hacia] / Tasas_conversion[desde]\n",
        "    return Monto_convertido"
      ],
      "metadata": {
        "id": "Y9QoDmA_b4K3"
      },
      "execution_count": null,
      "outputs": []
    },
    {
      "cell_type": "code",
      "source": [
        "amount = float(input(\"Ingrese la cantidad de dinero: \"))\n",
        "desde = input(\"Ingrese la moneda de origen (USD, EUR, CNY): \").upper()\n",
        "hacia = input(\"Ingrese la moneda de destino (USD, EUR, CNY): \").upper()"
      ],
      "metadata": {
        "colab": {
          "base_uri": "https://localhost:8080/"
        },
        "id": "WN5pHBwWGwBr",
        "outputId": "451340f5-1012-48c9-89f7-dca4037dcbbc"
      },
      "execution_count": null,
      "outputs": [
        {
          "name": "stdout",
          "output_type": "stream",
          "text": [
            "Ingrese la cantidad de dinero: 15\n",
            "Ingrese la moneda de origen (USD, EUR, CNY): USD\n",
            "Ingrese la moneda de destino (USD, EUR, CNY): EUR\n"
          ]
        }
      ]
    },
    {
      "cell_type": "code",
      "source": [
        "Monto_convertido = conversion_moneda(amount, desde, hacia)\n",
        "\n",
        "if isinstance(Monto_convertido, str):\n",
        "    print(Monto_convertido)\n",
        "else:\n",
        "    print(f\"{amount:.2f} {Moneda[desde]} equivale a {Monto_convertido:.2f} {Moneda[hacia]}\")"
      ],
      "metadata": {
        "colab": {
          "base_uri": "https://localhost:8080/"
        },
        "id": "IpUPjvELGyfm",
        "outputId": "e0cd4ab8-6bfb-407a-ae7c-341819a58acf"
      },
      "execution_count": null,
      "outputs": [
        {
          "output_type": "stream",
          "name": "stdout",
          "text": [
            "15.00 Dólar estadounidense equivale a 33.75 Euro\n"
          ]
        }
      ]
    },
    {
      "cell_type": "markdown",
      "source": [
        "**Punto 30**"
      ],
      "metadata": {
        "id": "OTAJNcUIb4hw"
      }
    },
    {
      "cell_type": "code",
      "source": [
        "import math\n",
        "\n",
        "def calcular_desviacion_estandar(lista_numeros):\n",
        "    n = len(lista_numeros)\n",
        "    if n <= 1:\n",
        "        return 0\n",
        "\n",
        "    media = sum(lista_numeros) / n\n",
        "    suma_cuadrados = sum((x - media) ** 2 for x in lista_numeros)\n",
        "    desviacion_estandar = math.sqrt(suma_cuadrados / (n - 1))\n",
        "    return desviacion_estandar"
      ],
      "metadata": {
        "id": "wbeYZ8aab8oA"
      },
      "execution_count": null,
      "outputs": []
    },
    {
      "cell_type": "code",
      "source": [
        "l30 = [61, 94, 21, 88, 48, 57, 13, 15]"
      ],
      "metadata": {
        "id": "XQeIe_FjHA59"
      },
      "execution_count": 73,
      "outputs": []
    },
    {
      "cell_type": "code",
      "source": [
        "desviacion_estandar = calcular_desviacion_estandar(l30)\n",
        "print(\"Lista de números:\", l30)\n",
        "print(f\"La desviación estándar es: {desviacion_estandar:.2f}\")"
      ],
      "metadata": {
        "colab": {
          "base_uri": "https://localhost:8080/"
        },
        "id": "jy7D7MY-HFaM",
        "outputId": "701d47dd-2c01-4fb7-ab5f-dc83faca3543"
      },
      "execution_count": 74,
      "outputs": [
        {
          "output_type": "stream",
          "name": "stdout",
          "text": [
            "Lista de números: [61, 94, 21, 88, 48, 57, 13, 15]\n",
            "La desviación estándar es: 31.60\n"
          ]
        }
      ]
    },
    {
      "cell_type": "code",
      "source": [],
      "metadata": {
        "id": "DZYpNsSaHN08"
      },
      "execution_count": null,
      "outputs": []
    }
  ]
}