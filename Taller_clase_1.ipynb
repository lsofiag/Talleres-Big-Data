{
  "nbformat": 4,
  "nbformat_minor": 0,
  "metadata": {
    "colab": {
      "provenance": []
    },
    "kernelspec": {
      "name": "python3",
      "display_name": "Python 3"
    },
    "language_info": {
      "name": "python"
    }
  },
  "cells": [
    {
      "cell_type": "code",
      "execution_count": 17,
      "metadata": {
        "id": "PYjj7GL6LU47"
      },
      "outputs": [],
      "source": [
        "def par_impar(a, b=2):\n",
        "  suma = a + b\n",
        "  if type(a) == int and type(b) == int:\n",
        "    if suma % 2 == 0:\n",
        "      print(f\"El numero {suma} es par\")\n",
        "    else:\n",
        "      print(f\"el numero {suma} es impar\")\n",
        "  else:\n",
        "    print(f\"Los datos integrados deben ser enteros\")\n",
        ""
      ]
    },
    {
      "cell_type": "code",
      "source": [
        "par_impar(4, 8)"
      ],
      "metadata": {
        "colab": {
          "base_uri": "https://localhost:8080/"
        },
        "id": "Y6D-5Ausoses",
        "outputId": "fc22f1bc-f5c3-40ae-9ab2-fc5dc00f1062"
      },
      "execution_count": 20,
      "outputs": [
        {
          "output_type": "stream",
          "name": "stdout",
          "text": [
            "El numero 12 es par\n"
          ]
        }
      ]
    },
    {
      "cell_type": "code",
      "source": [
        "def div_sum_enteros(a, b, c):\n",
        "\n",
        "  if type(a) == int and type(b) == int and type(c) == int:\n",
        "    suma = a + b\n",
        "    if c != 0:\n",
        "      print(suma / c)\n",
        "    else:\n",
        "      print(\"No es posible ejecutar\")\n",
        "  else:\n",
        "    print(\"Todos los numeros deben ser enteros\")\n",
        "\n",
        ""
      ],
      "metadata": {
        "id": "GFT3uHJaeV_l"
      },
      "execution_count": 15,
      "outputs": []
    },
    {
      "cell_type": "code",
      "source": [
        "div_sum_enteros(4, 6.5, 0)"
      ],
      "metadata": {
        "colab": {
          "base_uri": "https://localhost:8080/"
        },
        "id": "vRyD-Csrin3G",
        "outputId": "5275fdb3-13c1-46ef-93af-f734a9ff96f2"
      },
      "execution_count": 19,
      "outputs": [
        {
          "output_type": "stream",
          "name": "stdout",
          "text": [
            "Todos los numeros deben ser enteros\n"
          ]
        }
      ]
    },
    {
      "cell_type": "code",
      "source": [],
      "metadata": {
        "id": "ZvKferVsjgC0"
      },
      "execution_count": null,
      "outputs": []
    }
  ]
}